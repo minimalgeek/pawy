{
 "cells": [
  {
   "cell_type": "code",
   "execution_count": 8,
   "metadata": {},
   "outputs": [],
   "source": [
    "import wikipedia\n",
    "\n",
    "breeds = wikipedia.page('List_of_dog_breeds')\n",
    "breeds_list = breeds.links"
   ]
  },
  {
   "cell_type": "code",
   "execution_count": 20,
   "metadata": {},
   "outputs": [],
   "source": [
    "dog_page_0 = wikipedia.page(breeds_list[0])"
   ]
  },
  {
   "cell_type": "code",
   "execution_count": 23,
   "metadata": {},
   "outputs": [],
   "source": [
    "def check_valid_breed(page):\n",
    "    print(page.url)\n",
    "    if 'Dog breeds' in page.categories:\n",
    "        print('yo')\n",
    "    else:\n",
    "        print('no!!!')"
   ]
  },
  {
   "cell_type": "code",
   "execution_count": 22,
   "metadata": {},
   "outputs": [
    {
     "name": "stdout",
     "output_type": "stream",
     "text": [
      "https://en.wikipedia.org/wiki/Afghan_Hound\n",
      "yo\n"
     ]
    }
   ],
   "source": [
    "check_valid_breed(dog_page_1)"
   ]
  },
  {
   "cell_type": "code",
   "execution_count": 26,
   "metadata": {},
   "outputs": [
    {
     "name": "stdout",
     "output_type": "stream",
     "text": [
      "https://en.wikipedia.org/wiki/Affenpinscher\n",
      "yo\n",
      "https://en.wikipedia.org/wiki/Afghan_Hound\n",
      "yo\n",
      "https://en.wikipedia.org/wiki/Afghanistan\n",
      "no!!!\n",
      "https://en.wikipedia.org/wiki/African_village_dog\n",
      "no!!!\n",
      "https://en.wikipedia.org/wiki/Aging_in_dogs\n",
      "no!!!\n",
      "https://en.wikipedia.org/wiki/Aidi\n",
      "yo\n",
      "https://en.wikipedia.org/wiki/Airedale_Terrier\n",
      "yo\n",
      "https://en.wikipedia.org/wiki/Akbash_dog\n",
      "no!!!\n",
      "https://en.wikipedia.org/wiki/Akita_(dog)\n",
      "yo\n",
      "https://en.wikipedia.org/wiki/Alano_Espa%C3%B1ol\n",
      "yo\n",
      "https://en.wikipedia.org/wiki/Alaska\n",
      "no!!!\n"
     ]
    }
   ],
   "source": [
    "idx = 0\n",
    "for breed in breeds_list:\n",
    "    dog_page = wikipedia.page(breed)\n",
    "    check_valid_breed(dog_page)\n",
    "    idx+=1\n",
    "    if idx > 10:\n",
    "        break"
   ]
  },
  {
   "cell_type": "code",
   "execution_count": 30,
   "metadata": {},
   "outputs": [
    {
     "data": {
      "text/plain": [
       "'https://upload.wikimedia.org/wikipedia/commons/7/74/Afgan_Hound_in_Riga_special_show.JPG'"
      ]
     },
     "execution_count": 30,
     "metadata": {},
     "output_type": "execute_result"
    }
   ],
   "source": [
    "dog_page_1.images[0]"
   ]
  },
  {
   "cell_type": "code",
   "execution_count": 34,
   "metadata": {},
   "outputs": [
    {
     "name": "stdout",
     "output_type": "stream",
     "text": [
      "y 3\n"
     ]
    }
   ],
   "source": [
    "print('y', 3)"
   ]
  }
 ],
 "metadata": {
  "kernelspec": {
   "display_name": "Python 3",
   "language": "python",
   "name": "python3"
  },
  "language_info": {
   "codemirror_mode": {
    "name": "ipython",
    "version": 3
   },
   "file_extension": ".py",
   "mimetype": "text/x-python",
   "name": "python",
   "nbconvert_exporter": "python",
   "pygments_lexer": "ipython3",
   "version": "3.6.0"
  }
 },
 "nbformat": 4,
 "nbformat_minor": 2
}
